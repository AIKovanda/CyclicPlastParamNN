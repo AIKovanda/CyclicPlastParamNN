{
 "cells": [
  {
   "cell_type": "code",
   "execution_count": 1,
   "id": "15f0f462-40f7-407f-be50-73cd11776781",
   "metadata": {
    "tags": []
   },
   "outputs": [],
   "source": [
    "%load_ext autoreload\n",
    "%autoreload 2"
   ]
  },
  {
   "cell_type": "code",
   "execution_count": 2,
   "id": "f078b1dce7ad0aee",
   "metadata": {
    "collapsed": false,
    "tags": []
   },
   "outputs": [],
   "source": [
    "import warnings\n",
    "\n",
    "import matplotlib as mpl\n",
    "import matplotlib.pyplot as plt\n",
    "import numpy as np\n",
    "import pandas as pd\n",
    "\n",
    "from rcpl.config import BASE_DIR, FIGURES_DIR, MPL_RC, CONFIGS_DIR\n",
    "from rcpl.utils.prediction import ChainPredictor\n",
    "\n",
    "mpl.rcParams.update(MPL_RC)\n",
    "warnings.filterwarnings(\"ignore\", \"is_categorical_dtype\")\n",
    "warnings.filterwarnings(\"ignore\", \"use_inf_as_na\")"
   ]
  },
  {
   "cell_type": "code",
   "execution_count": 3,
   "id": "0fd17f47-d75f-4d42-ab48-f78398c9c1e2",
   "metadata": {
    "tags": []
   },
   "outputs": [],
   "source": [
    "exp_path, e_id = BASE_DIR / 'data/epsp_stress/measured/2023-11-23.json', 1\n",
    "# exp_path, e_id = BASE_DIR / 'data/epsp_stress/measured/2023-11-07.json', 2"
   ]
  },
  {
   "cell_type": "code",
   "execution_count": 4,
   "id": "c3a93bec-b4fc-4194-a63c-02bbd1bb46da",
   "metadata": {
    "tags": []
   },
   "outputs": [],
   "source": [
    "gru_predictor = ChainPredictor(config_path=CONFIGS_DIR / 'maftr/maftr2_4.best/gru.yaml', predicts_scaled_theta=True)\n",
    "ttopt_predictor = ChainPredictor(config_path=CONFIGS_DIR / 'maftr/maftr2_4.best/ttopt.yaml', predicts_scaled_theta=False)"
   ]
  },
  {
   "cell_type": "code",
   "execution_count": 5,
   "id": "0103501e-d182-4a94-81cc-ed49fbd5d79f",
   "metadata": {
    "tags": []
   },
   "outputs": [
    {
     "name": "stdout",
     "output_type": "stream",
     "text": [
      "Origin score: 485.95, Nelder-Mead score: 389.47\n"
     ]
    }
   ],
   "source": [
    "unscaled_theta_ttopt, stress_pred_ttopt = ttopt_predictor.predict_from_json(exp_path)\n",
    "unscaled_theta_opt_ttopt, stress_pred_opt_ttopt, _ = ttopt_predictor.predict_from_json_simplex(exp_path)"
   ]
  },
  {
   "cell_type": "code",
   "execution_count": 6,
   "id": "9eb82504-89fd-4138-9912-6fc39594f794",
   "metadata": {
    "tags": []
   },
   "outputs": [
    {
     "data": {
      "text/html": [
       "<div>\n",
       "<style scoped>\n",
       "    .dataframe tbody tr th:only-of-type {\n",
       "        vertical-align: middle;\n",
       "    }\n",
       "\n",
       "    .dataframe tbody tr th {\n",
       "        vertical-align: top;\n",
       "    }\n",
       "\n",
       "    .dataframe thead th {\n",
       "        text-align: right;\n",
       "    }\n",
       "</style>\n",
       "<table border=\"1\" class=\"dataframe\">\n",
       "  <thead>\n",
       "    <tr style=\"text-align: right;\">\n",
       "      <th></th>\n",
       "      <th>parameter</th>\n",
       "      <th>prediction</th>\n",
       "      <th>prediction after Nelder-Mead</th>\n",
       "    </tr>\n",
       "  </thead>\n",
       "  <tbody>\n",
       "    <tr>\n",
       "      <th>0</th>\n",
       "      <td>$k_0$</td>\n",
       "      <td>137.438904</td>\n",
       "      <td>210.636902</td>\n",
       "    </tr>\n",
       "    <tr>\n",
       "      <th>1</th>\n",
       "      <td>$\\kappa_1$</td>\n",
       "      <td>10000.000000</td>\n",
       "      <td>31074.546875</td>\n",
       "    </tr>\n",
       "    <tr>\n",
       "      <th>2</th>\n",
       "      <td>$\\kappa_2$</td>\n",
       "      <td>0.015842</td>\n",
       "      <td>0.021304</td>\n",
       "    </tr>\n",
       "    <tr>\n",
       "      <th>3</th>\n",
       "      <td>$c_1$</td>\n",
       "      <td>10000.000000</td>\n",
       "      <td>21463.906250</td>\n",
       "    </tr>\n",
       "    <tr>\n",
       "      <th>4</th>\n",
       "      <td>$c_2$</td>\n",
       "      <td>2000.000000</td>\n",
       "      <td>2188.314453</td>\n",
       "    </tr>\n",
       "    <tr>\n",
       "      <th>5</th>\n",
       "      <td>$c_3$</td>\n",
       "      <td>113.098732</td>\n",
       "      <td>94.121338</td>\n",
       "    </tr>\n",
       "    <tr>\n",
       "      <th>6</th>\n",
       "      <td>$c_4$</td>\n",
       "      <td>1076.001953</td>\n",
       "      <td>1228.881348</td>\n",
       "    </tr>\n",
       "    <tr>\n",
       "      <th>7</th>\n",
       "      <td>$a_1$</td>\n",
       "      <td>62.365593</td>\n",
       "      <td>64.803833</td>\n",
       "    </tr>\n",
       "    <tr>\n",
       "      <th>8</th>\n",
       "      <td>$a_2$</td>\n",
       "      <td>123.949165</td>\n",
       "      <td>141.125336</td>\n",
       "    </tr>\n",
       "    <tr>\n",
       "      <th>9</th>\n",
       "      <td>$a_3$</td>\n",
       "      <td>28.347996</td>\n",
       "      <td>0.533082</td>\n",
       "    </tr>\n",
       "    <tr>\n",
       "      <th>10</th>\n",
       "      <td>$a_4$</td>\n",
       "      <td>31.280548</td>\n",
       "      <td>28.329086</td>\n",
       "    </tr>\n",
       "    <tr>\n",
       "      <th>11</th>\n",
       "      <td>$\\overline{a}$</td>\n",
       "      <td>102.150536</td>\n",
       "      <td>104.655731</td>\n",
       "    </tr>\n",
       "  </tbody>\n",
       "</table>\n",
       "</div>"
      ],
      "text/plain": [
       "         parameter    prediction  prediction after Nelder-Mead\n",
       "0            $k_0$    137.438904                    210.636902\n",
       "1       $\\kappa_1$  10000.000000                  31074.546875\n",
       "2       $\\kappa_2$      0.015842                      0.021304\n",
       "3            $c_1$  10000.000000                  21463.906250\n",
       "4            $c_2$   2000.000000                   2188.314453\n",
       "5            $c_3$    113.098732                     94.121338\n",
       "6            $c_4$   1076.001953                   1228.881348\n",
       "7            $a_1$     62.365593                     64.803833\n",
       "8            $a_2$    123.949165                    141.125336\n",
       "9            $a_3$     28.347996                      0.533082\n",
       "10           $a_4$     31.280548                     28.329086\n",
       "11  $\\overline{a}$    102.150536                    104.655731"
      ]
     },
     "execution_count": 6,
     "metadata": {},
     "output_type": "execute_result"
    }
   ],
   "source": [
    "pd.DataFrame({\n",
    "    'parameter': ['$'+i+'$' for i in gru_predictor.chain.dataset_info.value['latex_labels']], \n",
    "    'prediction': unscaled_theta_ttopt,\n",
    "    'prediction after Nelder-Mead': unscaled_theta_opt_ttopt,\n",
    "})"
   ]
  },
  {
   "cell_type": "code",
   "execution_count": 7,
   "id": "b068dab4-8a7c-4464-a3ea-a55df39a00bb",
   "metadata": {
    "tags": []
   },
   "outputs": [
    {
     "name": "stderr",
     "output_type": "stream",
     "text": [
      "/home/martin/miniconda3/envs/t2/lib/python3.10/site-packages/tqdm/auto.py:21: TqdmWarning: IProgress not found. Please update jupyter and ipywidgets. See https://ipywidgets.readthedocs.io/en/stable/user_install.html\n",
      "  from .autonotebook import tqdm as notebook_tqdm\n"
     ]
    },
    {
     "name": "stdout",
     "output_type": "stream",
     "text": [
      "Origin score: 812.12, Nelder-Mead score: 398.05\n"
     ]
    }
   ],
   "source": [
    "unscaled_theta_gru, stress_pred_gru = gru_predictor.predict_from_json(exp_path)\n",
    "unscaled_theta_opt_gru, stress_pred_opt_gru, _ = gru_predictor.predict_from_json_simplex(exp_path, verbose=True)"
   ]
  },
  {
   "cell_type": "code",
   "execution_count": 8,
   "id": "016bfab2-9673-4a12-9f87-5c49263e7267",
   "metadata": {
    "tags": []
   },
   "outputs": [
    {
     "data": {
      "text/html": [
       "<div>\n",
       "<style scoped>\n",
       "    .dataframe tbody tr th:only-of-type {\n",
       "        vertical-align: middle;\n",
       "    }\n",
       "\n",
       "    .dataframe tbody tr th {\n",
       "        vertical-align: top;\n",
       "    }\n",
       "\n",
       "    .dataframe thead th {\n",
       "        text-align: right;\n",
       "    }\n",
       "</style>\n",
       "<table border=\"1\" class=\"dataframe\">\n",
       "  <thead>\n",
       "    <tr style=\"text-align: right;\">\n",
       "      <th></th>\n",
       "      <th>parameter</th>\n",
       "      <th>prediction</th>\n",
       "      <th>prediction after Nelder-Mead</th>\n",
       "    </tr>\n",
       "  </thead>\n",
       "  <tbody>\n",
       "    <tr>\n",
       "      <th>0</th>\n",
       "      <td>$k_0$</td>\n",
       "      <td>117.659836</td>\n",
       "      <td>195.324219</td>\n",
       "    </tr>\n",
       "    <tr>\n",
       "      <th>1</th>\n",
       "      <td>$\\kappa_1$</td>\n",
       "      <td>8918.841797</td>\n",
       "      <td>23206.996094</td>\n",
       "    </tr>\n",
       "    <tr>\n",
       "      <th>2</th>\n",
       "      <td>$\\kappa_2$</td>\n",
       "      <td>0.028482</td>\n",
       "      <td>0.028727</td>\n",
       "    </tr>\n",
       "    <tr>\n",
       "      <th>3</th>\n",
       "      <td>$c_1$</td>\n",
       "      <td>11785.776367</td>\n",
       "      <td>31843.533203</td>\n",
       "    </tr>\n",
       "    <tr>\n",
       "      <th>4</th>\n",
       "      <td>$c_2$</td>\n",
       "      <td>1483.610962</td>\n",
       "      <td>2539.827637</td>\n",
       "    </tr>\n",
       "    <tr>\n",
       "      <th>5</th>\n",
       "      <td>$c_3$</td>\n",
       "      <td>501.896118</td>\n",
       "      <td>424.162659</td>\n",
       "    </tr>\n",
       "    <tr>\n",
       "      <th>6</th>\n",
       "      <td>$c_4$</td>\n",
       "      <td>444.734375</td>\n",
       "      <td>410.384888</td>\n",
       "    </tr>\n",
       "    <tr>\n",
       "      <th>7</th>\n",
       "      <td>$a_1$</td>\n",
       "      <td>117.625931</td>\n",
       "      <td>67.578262</td>\n",
       "    </tr>\n",
       "    <tr>\n",
       "      <th>8</th>\n",
       "      <td>$a_2$</td>\n",
       "      <td>87.029480</td>\n",
       "      <td>138.944458</td>\n",
       "    </tr>\n",
       "    <tr>\n",
       "      <th>9</th>\n",
       "      <td>$a_3$</td>\n",
       "      <td>79.739494</td>\n",
       "      <td>16.279949</td>\n",
       "    </tr>\n",
       "    <tr>\n",
       "      <th>10</th>\n",
       "      <td>$a_4$</td>\n",
       "      <td>62.086514</td>\n",
       "      <td>84.077393</td>\n",
       "    </tr>\n",
       "    <tr>\n",
       "      <th>11</th>\n",
       "      <td>$\\overline{a}$</td>\n",
       "      <td>210.765533</td>\n",
       "      <td>100.368088</td>\n",
       "    </tr>\n",
       "  </tbody>\n",
       "</table>\n",
       "</div>"
      ],
      "text/plain": [
       "         parameter    prediction  prediction after Nelder-Mead\n",
       "0            $k_0$    117.659836                    195.324219\n",
       "1       $\\kappa_1$   8918.841797                  23206.996094\n",
       "2       $\\kappa_2$      0.028482                      0.028727\n",
       "3            $c_1$  11785.776367                  31843.533203\n",
       "4            $c_2$   1483.610962                   2539.827637\n",
       "5            $c_3$    501.896118                    424.162659\n",
       "6            $c_4$    444.734375                    410.384888\n",
       "7            $a_1$    117.625931                     67.578262\n",
       "8            $a_2$     87.029480                    138.944458\n",
       "9            $a_3$     79.739494                     16.279949\n",
       "10           $a_4$     62.086514                     84.077393\n",
       "11  $\\overline{a}$    210.765533                    100.368088"
      ]
     },
     "execution_count": 8,
     "metadata": {},
     "output_type": "execute_result"
    }
   ],
   "source": [
    "pd.DataFrame({\n",
    "    'parameter': ['$'+i+'$' for i in gru_predictor.chain.dataset_info.value['latex_labels']], \n",
    "    'prediction': unscaled_theta_gru,\n",
    "    'prediction after Nelder-Mead': unscaled_theta_opt_gru,\n",
    "})"
   ]
  },
  {
   "cell_type": "code",
   "execution_count": 9,
   "id": "88d0661654685a47",
   "metadata": {
    "collapsed": false,
    "tags": []
   },
   "outputs": [],
   "source": [
    "# validate_crlb = gru_predictor.validate_crlb(exp_path, crop_signal=[0, 681])\n",
    "epsp, measured_stress = gru_predictor.get_experiment_data(exp_path)"
   ]
  },
  {
   "cell_type": "code",
   "execution_count": 10,
   "id": "799b2f67-eafb-4435-9673-667a14bf5124",
   "metadata": {
    "tags": []
   },
   "outputs": [],
   "source": [
    "if exp_path.stem == '2023-11-07':\n",
    "    x_lim = 450\n",
    "\n",
    "    col0 = '#005500'\n",
    "    col1 = '#dd0000'\n",
    "    col2 = '#244BB5'\n",
    "    lw=.8\n",
    "\n",
    "    fig, (ax1, ax2, ax3) = plt.subplots(3, 1, figsize=(7.75, 4), sharex=True, gridspec_kw={'height_ratios': [3, 4, 3], 'hspace': 0.05})\n",
    "\n",
    "    ax1.plot(epsp[:x_lim], color='#005500', lw=lw)\n",
    "    ax1.set_xlabel('Samples')\n",
    "    ax1.set_ylabel('Plastic deformation')\n",
    "    ax1.set_xlim([-5,5+x_lim])\n",
    "    # ax1.legend()\n",
    "\n",
    "    ax2.plot(measured_stress[:x_lim], label='Experimental', color=col0, lw=lw)\n",
    "    # ax2.plot(measured_stress[:x_lim], '.', color='#005500')\n",
    "    ax2.plot(stress_pred_opt_ttopt[:x_lim], label='TTOpt (r)', color=col1, lw=lw)\n",
    "    ax2.plot(stress_pred_opt_gru[:x_lim], label='GRU (r)', color=col2, lw=lw)\n",
    "    ax2.set_ylabel('Stress $S$ (MPa)')\n",
    "    ax2.legend(ncol=3, loc='lower right')\n",
    "    ax2.set_ylim([-610, 440])\n",
    "\n",
    "    ax3.axhline(y=0, color='k', linestyle='-', linewidth=0.5)\n",
    "    ax3.plot((stress_pred_opt_ttopt.numpy()-np.array(measured_stress))[:x_lim], label='TTOpt (r)', color=col1, lw=lw)\n",
    "    ax3.plot((stress_pred_opt_gru.numpy()-np.array(measured_stress))[:x_lim], label='GRU (r)', color=col2, lw=lw)\n",
    "    ax3.set_ylabel('$\\\\Delta S$ (MPa)')\n",
    "    ax3.set_xlabel('Samples')\n",
    "    ax3.legend(loc='upper right', ncol=2)\n",
    "\n",
    "    plt.savefig(FIGURES_DIR / f'{exp_path.stem}.exp_sim_opt.pdf', bbox_inches='tight', pad_inches=0)\n",
    "    plt.show()"
   ]
  },
  {
   "cell_type": "code",
   "execution_count": 13,
   "id": "7702c42d-2011-42bb-99ab-828ce7458e92",
   "metadata": {
    "tags": []
   },
   "outputs": [
    {
     "data": {
      "image/png": "[encoded data removed]",
      "text/plain": [
       "<Figure size 775x400 with 3 Axes>"
      ]
     },
     "metadata": {},
     "output_type": "display_data"
    }
   ],
   "source": [
    "if exp_path.stem == '2023-11-23':\n",
    "    x_lim = 450\n",
    "    \n",
    "    lw = .8\n",
    "    col0 = '#005500'\n",
    "    col1 = '#dd0000'\n",
    "    col2 = '#244BB5'\n",
    "\n",
    "    fig, (ax1, ax2, ax3) = plt.subplots(3, 1, figsize=(7.75, 4), sharex=True, gridspec_kw={'height_ratios': [3, 3, 3], 'hspace': 0.05})\n",
    "\n",
    "    ax1.plot(epsp[:x_lim], color='#005500', lw=lw)\n",
    "    ax1.set_xlabel('Samples')\n",
    "    ax1.set_ylabel('Plastic deformation')\n",
    "    ax1.set_xlim([-5,5+x_lim])\n",
    "    # ax1.legend()\n",
    "\n",
    "    ax2.plot(measured_stress[:x_lim], label='Experimental', color=col0, lw=lw)\n",
    "    # ax2.plot(measured_stress[:x_lim], '.', color='#005500', markersize=1)\n",
    "    ax2.plot(stress_pred_opt_gru[:x_lim], label='GRU (r)', color=col1, lw=lw)\n",
    "    ax2.plot(stress_pred_opt_ttopt[:x_lim], label='TTOpt (r)', color=col2, lw=lw)\n",
    "    ax2.set_ylabel('Stress $S$ (MPa)')\n",
    "    ax2.legend(ncol=3, loc='lower right')\n",
    "    ax2.set_ylim([-490, 440])\n",
    "\n",
    "    ax3.axhline(y=0, color='k', linestyle='-', linewidth=0.5)\n",
    "    ax3.plot((stress_pred_opt_gru.numpy()-np.array(measured_stress))[:x_lim], label='GRU (r)', color=col1, lw=lw)\n",
    "    ax3.plot((stress_pred_opt_ttopt.numpy()-np.array(measured_stress))[:x_lim], label='TTOpt (r)', color=col2, lw=lw)\n",
    "    ax3.set_ylabel('$\\\\Delta S$ (MPa)')\n",
    "    ax3.set_xlabel('Samples')\n",
    "    ax3.legend(ncol=2, loc='lower right')\n",
    "    \n",
    "    plt.savefig(FIGURES_DIR / f'{exp_path.stem}.exp_sim_opt.pdf', bbox_inches='tight', pad_inches=0)\n",
    "\n",
    "    plt.show()"
   ]
  }
 ],
 "metadata": {
  "kernelspec": {
   "display_name": "Python 3 (ipykernel)",
   "language": "python",
   "name": "python3"
  },
  "language_info": {
   "codemirror_mode": {
    "name": "ipython",
    "version": 3
   },
   "file_extension": ".py",
   "mimetype": "text/x-python",
   "name": "python",
   "nbconvert_exporter": "python",
   "pygments_lexer": "ipython3",
   "version": "3.10.13"
  }
 },
 "nbformat": 4,
 "nbformat_minor": 5
}
