{
 "cells": [
  {
   "cell_type": "code",
   "execution_count": 1,
   "id": "15f0f462-40f7-407f-be50-73cd11776781",
   "metadata": {
    "tags": []
   },
   "outputs": [],
   "source": [
    "%load_ext autoreload\n",
    "%autoreload 2"
   ]
  },
  {
   "cell_type": "code",
   "execution_count": null,
   "id": "f078b1dce7ad0aee",
   "metadata": {
    "collapsed": false
   },
   "outputs": [],
   "source": [
    "import warnings\n",
    "\n",
    "import matplotlib as mpl\n",
    "import matplotlib.pyplot as plt\n",
    "import numpy as np\n",
    "\n",
    "from rcpl.config import BASE_DIR, FIGURES_DIR, MPL_RC, CONFIGS_DIR\n",
    "from rcpl.prediction import ChainPredictor\n",
    "\n",
    "mpl.rcParams.update(MPL_RC)\n",
    "warnings.filterwarnings(\"ignore\", \"is_categorical_dtype\")\n",
    "warnings.filterwarnings(\"ignore\", \"use_inf_as_na\")"
   ]
  },
  {
   "cell_type": "code",
   "outputs": [],
   "source": [
    "DEVICE = 'cuda'\n",
    "D1 = 'exp2023-11-23.maftr2_4.template'\n",
    "D2 = 'maftr2_4.template'"
   ],
   "metadata": {
    "tags": []
   },
   "id": "8d71e1b0-0f22-4560-bcd6-44f7101d1330",
   "execution_count": 116
  },
  {
   "cell_type": "code",
   "execution_count": 94,
   "id": "0fd17f47-d75f-4d42-ab48-f78398c9c1e2",
   "metadata": {
    "tags": []
   },
   "outputs": [],
   "source": [
    "exp_path, e_id = BASE_DIR / 'data/epsp_stress/measured/2023-11-23.json', 1\n",
    "# exp_path, e_id = BASE_DIR / 'data/epsp_stress/measured/2023-11-07.json', 2"
   ]
  },
  {
   "cell_type": "code",
   "execution_count": 95,
   "id": "c3a93bec-b4fc-4194-a63c-02bbd1bb46da",
   "metadata": {
    "tags": []
   },
   "outputs": [],
   "source": [
    "gru_predictor = ChainPredictor(config_path=CONFIGS_DIR / 'maftr/maftr2_4.best/gru.yaml', predicts_scaled_theta=True)\n",
    "ttopt_predictor = ChainPredictor(config_path=CONFIGS_DIR / 'maftr/maftr2_4.best/ttopt.yaml', predicts_scaled_theta=False)"
   ]
  },
  {
   "cell_type": "code",
   "execution_count": 97,
   "id": "3a80b232777dbb77",
   "metadata": {
    "collapsed": false,
    "tags": []
   },
   "outputs": [],
   "source": [
    "# unscaled_theta_prediction, stress_pred = ttopt_predictor.predict_from_json(exp_path)"
   ]
  },
  {
   "cell_type": "code",
   "execution_count": 98,
   "id": "0103501e-d182-4a94-81cc-ed49fbd5d79f",
   "metadata": {
    "tags": []
   },
   "outputs": [
    {
     "name": "stdout",
     "output_type": "stream",
     "text": [
      "Origin score: 83.66, Nelder-Mead score: 74.75\n"
     ]
    }
   ],
   "source": [
    "unscaled_theta_opt_ttopt, stress_pred_opt_ttopt, _ = ttopt_predictor.predict_from_json_simplex(exp_path)"
   ]
  },
  {
   "cell_type": "code",
   "execution_count": 100,
   "id": "9eb82504-89fd-4138-9912-6fc39594f794",
   "metadata": {
    "tags": []
   },
   "outputs": [
    {
     "name": "stdout",
     "output_type": "stream",
     "text": [
      "38.659492\n",
      "387.05273\n",
      "0.0112703685\n",
      "18681.84\n",
      "1704.2593\n",
      "1923.0457\n",
      "277.5675\n",
      "52.153976\n",
      "70.29988\n",
      "1.0019674\n",
      "16.508648\n",
      "15.227308\n"
     ]
    }
   ],
   "source": [
    "for i in unscaled_theta_opt_ttopt:\n",
    "    print(i)"
   ]
  },
  {
   "cell_type": "code",
   "execution_count": 104,
   "id": "2ba98da5-1c01-4103-9eaa-c7ec45dbfd4f",
   "metadata": {
    "tags": []
   },
   "outputs": [
    {
     "data": {
      "text/plain": [
       "0.0029297487100120633"
      ]
     },
     "execution_count": 104,
     "metadata": {},
     "output_type": "execute_result"
    }
   ],
   "source": [
    "gru_predictor.benchmark(exp_path, 100)"
   ]
  },
  {
   "cell_type": "code",
   "execution_count": 105,
   "id": "b068dab4-8a7c-4464-a3ea-a55df39a00bb",
   "metadata": {
    "tags": []
   },
   "outputs": [
    {
     "name": "stdout",
     "output_type": "stream",
     "text": [
      "Origin score: 2441.20, Nelder-Mead score: 75.75\n"
     ]
    }
   ],
   "source": [
    "unscaled_theta_gru, stress_pred_gru = gru_predictor.predict_from_json(exp_path)\n",
    "unscaled_theta_opt_gru, stress_pred_opt_gru, _ = gru_predictor.predict_from_json_simplex(exp_path, verbose=True)"
   ]
  },
  {
   "cell_type": "code",
   "execution_count": 107,
   "id": "88d0661654685a47",
   "metadata": {
    "collapsed": false,
    "tags": []
   },
   "outputs": [
    {
     "name": "stderr",
     "output_type": "stream",
     "text": [
      "Calculating gradients of theta: 100%|████████████████████████████████████████████████████████████████████████████████████████████████████████████████████████████████████████████| 681/681 [00:10<00:00, 63.52it/s]\n",
      "100%|█████████████████████████████████████████████████████████████████████████████████████████████████████████████████████████████████████████████████████████████████████████| 1000/1000 [00:04<00:00, 223.52it/s]\n"
     ]
    }
   ],
   "source": [
    "validate_crlb = gru_predictor.validate_crlb(exp_path, crop_signal=[0, 681])"
   ]
  },
  {
   "cell_type": "code",
   "execution_count": 108,
   "id": "799b2f67-eafb-4435-9673-667a14bf5124",
   "metadata": {
    "tags": []
   },
   "outputs": [],
   "source": [
    "if exp_path.stem == '2023-11-07':\n",
    "    x_lim = 450\n",
    "\n",
    "    col0 = '#005500'\n",
    "    col1 = '#dd0000'\n",
    "    col2 = '#244BB5'\n",
    "    lw=.8\n",
    "\n",
    "    fig, (ax1, ax2, ax3) = plt.subplots(3, 1, figsize=(7.75, 4), sharex=True, gridspec_kw={'height_ratios': [3, 4, 3], 'hspace': 0.05})\n",
    "\n",
    "    ax1.plot(validate_crlb['signal0'][:x_lim], color='#005500', lw=lw)\n",
    "    ax1.set_xlabel('Samples')\n",
    "    ax1.set_ylabel('Plastic deformation')\n",
    "    ax1.set_xlim([-5,5+x_lim])\n",
    "    # ax1.legend()\n",
    "\n",
    "    ax2.plot(validate_crlb['stress_true'][:x_lim], label='Experimental', color=col0, lw=lw)\n",
    "    # ax2.plot(validate_crlb['stress_true'][:x_lim], '.', color='#005500')\n",
    "    ax2.plot(stress_pred_opt_ttopt[:x_lim], label='TTOpt (r)', color=col1, lw=lw)\n",
    "    ax2.plot(stress_pred_opt_gru[:x_lim], label='GRU (r)', color=col2, lw=lw)\n",
    "    ax2.set_ylabel('Stress $S$ (MPa)')\n",
    "    ax2.legend(ncol=3, loc='lower right')\n",
    "    ax2.set_ylim([-610, 440])\n",
    "\n",
    "    ax3.axhline(y=0, color='k', linestyle='-', linewidth=0.5)\n",
    "    ax3.plot((stress_pred_opt_ttopt.numpy()-np.array(validate_crlb['stress_true']))[:x_lim], label='TTOpt (r)', color=col1, lw=lw)\n",
    "    ax3.plot((stress_pred_opt_gru.numpy()-np.array(validate_crlb['stress_true']))[:x_lim], label='GRU (r)', color=col2, lw=lw)\n",
    "    ax3.set_ylabel('$\\\\Delta S$ (MPa)')\n",
    "    ax3.set_xlabel('Samples')\n",
    "    ax3.legend(loc='upper right', ncol=2)\n",
    "\n",
    "    plt.tight_layout()\n",
    "    plt.savefig(FIGURES_DIR / f'{exp_path.stem}.exp_sim_opt.pdf', bbox_inches='tight', pad_inches=0)\n",
    "    plt.show()"
   ]
  },
  {
   "cell_type": "code",
   "execution_count": 109,
   "id": "7702c42d-2011-42bb-99ab-828ce7458e92",
   "metadata": {
    "tags": []
   },
   "outputs": [],
   "source": [
    "if exp_path.stem == '2023-11-23':\n",
    "    x_lim = 450\n",
    "    \n",
    "    lw = .8\n",
    "    col0 = '#005500'\n",
    "    col1 = '#dd0000'\n",
    "    col2 = '#244BB5'\n",
    "\n",
    "    fig, (ax1, ax2, ax3) = plt.subplots(3, 1, figsize=(7.75, 4), sharex=True, gridspec_kw={'height_ratios': [3, 3, 3], 'hspace': 0.05})\n",
    "\n",
    "    ax1.plot(validate_crlb['signal0'][:x_lim], color='#005500', lw=lw)\n",
    "    ax1.set_xlabel('Samples')\n",
    "    ax1.set_ylabel('Plastic deformation')\n",
    "    ax1.set_xlim([-5,5+x_lim])\n",
    "    # ax1.legend()\n",
    "\n",
    "    ax2.plot(validate_crlb['stress_true'][:x_lim], label='Experimental', color=col0, lw=lw)\n",
    "    # ax2.plot(validate_crlb['stress_true'][:x_lim], '.', color='#005500', markersize=1)\n",
    "    ax2.plot(stress_pred_opt_ttopt[:x_lim], label='TTOpt (r)', color=col1, lw=lw)\n",
    "    ax2.plot(stress_pred_opt_gru[:x_lim], label='GRU (r)', color=col2, lw=lw)\n",
    "    ax2.set_ylabel('Stress $S$ (MPa)')\n",
    "    ax2.legend(ncol=3, loc='lower right')\n",
    "    ax2.set_ylim([-490, 440])\n",
    "\n",
    "    ax3.axhline(y=0, color='k', linestyle='-', linewidth=0.5)\n",
    "    ax3.plot((stress_pred_opt_ttopt.numpy()-np.array(validate_crlb['stress_true']))[:x_lim], label='TTOpt (r)', color=col1, lw=lw)\n",
    "    ax3.plot((stress_pred_opt_gru.numpy()-np.array(validate_crlb['stress_true']))[:x_lim], label='GRU (r)', color=col2, lw=lw)\n",
    "    ax3.set_ylabel('$\\\\Delta S$ (MPa)')\n",
    "    ax3.set_xlabel('Samples')\n",
    "    ax3.legend(ncol=2, loc='lower right')\n",
    "\n",
    "    plt.tight_layout()\n",
    "    \n",
    "    plt.savefig(FIGURES_DIR / f'{exp_path.stem}.exp_sim_opt.pdf', bbox_inches='tight', pad_inches=0)\n",
    "\n",
    "    plt.show()"
   ]
  },
  {
   "cell_type": "code",
   "execution_count": 119,
   "id": "4bfd2372-2bf9-41d9-80c1-d48ace49f6f9",
   "metadata": {
    "tags": []
   },
   "outputs": [
    {
     "name": "stderr",
     "output_type": "stream",
     "text": [
      "/tmp/ipykernel_1624859/2569795204.py:36: UserWarning: This figure includes Axes that are not compatible with tight_layout, so results might be incorrect.\n",
      "  plt.tight_layout()\n"
     ]
    },
    {
     "data": {
      "image/png": "[encoded data removed]",
      "text/plain": [
       "<Figure size 375x270 with 3 Axes>"
      ]
     },
     "metadata": {},
     "output_type": "display_data"
    }
   ],
   "source": [
    "if exp_path.stem == '2024-03-06':\n",
    "    \n",
    "    x_lim = 450\n",
    "    \n",
    "    lw = .8\n",
    "    col0 = '#005500'\n",
    "    col1 = '#dd0000'\n",
    "    col2 = '#244BB5'\n",
    "\n",
    "    fig, (ax1, ax2, ax3) = plt.subplots(3, 1, figsize=(3.75, 2.7), sharex=True, gridspec_kw={'height_ratios': [2, 3, 2], 'hspace': 0.05})\n",
    "\n",
    "    ax1.plot(validate_crlb['signal0'][:x_lim], color='#005500', lw=lw)\n",
    "    ax1.set_xlabel('Samples')\n",
    "    ax1.set_ylabel(r'$\\epsilon$')\n",
    "    ax1.set_xlim([-5,5+x_lim])\n",
    "    # ax1.legend()\n",
    "\n",
    "    ax2.plot(validate_crlb['stress_true'][:x_lim], label='Experimental', color=col0, lw=lw)\n",
    "    # ax2.plot(validate_crlb['stress_true'][:x_lim], '.', color='#005500', markersize=1)\n",
    "    ax2.plot(stress_pred_opt_ttopt[:x_lim], label='TTOpt (r)', color=col1, lw=lw)\n",
    "    ax2.plot(stress_pred_opt_gru[:x_lim], label='GRU (r)', color=col2, lw=lw)\n",
    "    ax2.set_ylabel('$S$ (MPa)')\n",
    "    # ax2.legend(ncol=3, loc='lower right')\n",
    "    ax2.legend(ncol=3, loc='lower right',frameon=True, labelspacing=0., handlelength=.7, fontsize=8, borderpad=0.3, columnspacing=1, borderaxespad=0.2)\n",
    "\n",
    "    ax2.set_ylim([-350, 230])\n",
    "\n",
    "    ax3.axhline(y=0, color='k', linestyle='-', linewidth=0.5)\n",
    "    ax3.plot((stress_pred_opt_ttopt.numpy()-np.array(validate_crlb['stress_true']))[:x_lim], label='TTOpt (r)', color=col1, lw=lw)\n",
    "    ax3.plot((stress_pred_opt_gru.numpy()-np.array(validate_crlb['stress_true']))[:x_lim], label='GRU (r)', color=col2, lw=lw)\n",
    "    ax3.set_ylabel('$\\\\Delta S$ (MPa)')\n",
    "    ax3.set_xlabel('Samples')\n",
    "    # ax3.legend(ncol=2, loc='lower right')\n",
    "    ax3.legend(ncol=2, loc='upper right',frameon=True, labelspacing=0., handlelength=.7, fontsize=8, borderpad=0.3, columnspacing=1, borderaxespad=0.2)\n",
    "\n",
    "    plt.tight_layout()\n",
    "    plt.savefig(FIGURES_DIR / f'{exp_path.stem}.exp_sim_opt.pdf', bbox_inches='tight', pad_inches=0)\n",
    "\n",
    "    plt.show()"
   ]
  },
  {
   "cell_type": "code",
   "execution_count": 115,
   "id": "c7f348a6-b455-4b38-9aad-7c9c4cadaa98",
   "metadata": {
    "tags": []
   },
   "outputs": [],
   "source": [
    "if exp_path.stem == '2024-03-08':\n",
    "    \n",
    "    x_lim = 450\n",
    "    \n",
    "    lw = .8\n",
    "    col0 = '#005500'\n",
    "    col1 = '#dd0000'\n",
    "    col2 = '#244BB5'\n",
    "\n",
    "    fig, (ax1, ax2, ax3) = plt.subplots(3, 1, figsize=(3.75, 2.7), sharex=True, gridspec_kw={'height_ratios': [2, 3, 2], 'hspace': 0.05})\n",
    "\n",
    "    ax1.plot(validate_crlb['signal0'][:x_lim], color='#005500', lw=lw)\n",
    "    ax1.set_xlabel('Samples')\n",
    "    ax1.set_ylabel(r'$\\epsilon$ (-)')\n",
    "    ax1.set_xlim([-5,5+x_lim])\n",
    "    # ax1.legend()\n",
    "\n",
    "    ax2.plot(validate_crlb['stress_true'][:x_lim], label='Experimental', color=col0, lw=lw)\n",
    "    # ax2.plot(validate_crlb['stress_true'][:x_lim], '.', color='#005500', markersize=1)\n",
    "    ax2.plot(stress_pred_opt_ttopt[:x_lim], label='TTOpt (r)', color=col1, lw=lw)\n",
    "    ax2.plot(stress_pred_opt_gru[:x_lim], label='GRU (r)', color=col2, lw=lw)\n",
    "    ax2.set_ylabel('$S$ (MPa)')\n",
    "    # ax2.legend(ncol=3, loc='lower right')\n",
    "    ax2.legend(ncol=3, loc='lower right',frameon=True, labelspacing=0., handlelength=.7, fontsize=7, borderpad=0.3, columnspacing=1, borderaxespad=0.2)\n",
    "\n",
    "    ax2.set_ylim([-400, 260])\n",
    "\n",
    "    ax3.axhline(y=0, color='k', linestyle='-', linewidth=0.5)\n",
    "    ax3.plot((stress_pred_opt_ttopt.numpy()-np.array(validate_crlb['stress_true']))[:x_lim], label='TTOpt (r)', color=col1, lw=lw)\n",
    "    ax3.plot((stress_pred_opt_gru.numpy()-np.array(validate_crlb['stress_true']))[:x_lim], label='GRU (r)', color=col2, lw=lw)\n",
    "    ax3.set_ylabel('$\\\\Delta S$ (MPa)')\n",
    "    ax3.set_xlabel('Samples')\n",
    "    # ax3.legend(ncol=2, loc='lower right')\n",
    "    ax3.legend(ncol=2, loc='lower right',frameon=True, labelspacing=0., handlelength=.7, fontsize=7, borderpad=0.3, columnspacing=1, borderaxespad=0.2)\n",
    "\n",
    "    plt.tight_layout()\n",
    "    plt.savefig(FIGURES_DIR / f'{exp_path.stem}.exp_sim_opt.pdf', bbox_inches='tight', pad_inches=0)\n",
    "\n",
    "    plt.show()"
   ]
  }
 ],
 "metadata": {
  "kernelspec": {
   "display_name": "Python 3 (ipykernel)",
   "language": "python",
   "name": "python3"
  },
  "language_info": {
   "codemirror_mode": {
    "name": "ipython",
    "version": 3
   },
   "file_extension": ".py",
   "mimetype": "text/x-python",
   "name": "python",
   "nbconvert_exporter": "python",
   "pygments_lexer": "ipython3",
   "version": "3.10.13"
  }
 },
 "nbformat": 4,
 "nbformat_minor": 5
}
