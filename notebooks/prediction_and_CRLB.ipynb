{
 "cells": [
  {
   "cell_type": "code",
   "execution_count": 1,
   "id": "15f0f462-40f7-407f-be50-73cd11776781",
   "metadata": {
    "tags": []
   },
   "outputs": [],
   "source": [
    "%load_ext autoreload\n",
    "%autoreload 2"
   ]
  },
  {
   "cell_type": "code",
   "execution_count": 2,
   "id": "f078b1dce7ad0aee",
   "metadata": {
    "collapsed": false,
    "tags": []
   },
   "outputs": [],
   "source": [
    "import warnings\n",
    "\n",
    "import matplotlib as mpl\n",
    "import numpy as np\n",
    "import pandas as pd\n",
    "\n",
    "from rcpl.config import BASE_DIR, MPL_RC, CONFIGS_DIR\n",
    "from rcpl.utils.prediction import ChainPredictor, format_float\n",
    "\n",
    "mpl.rcParams.update(MPL_RC)\n",
    "warnings.filterwarnings(\"ignore\", \"is_categorical_dtype\")\n",
    "warnings.filterwarnings(\"ignore\", \"use_inf_as_na\")"
   ]
  },
  {
   "cell_type": "code",
   "execution_count": 16,
   "id": "0fd17f47-d75f-4d42-ab48-f78398c9c1e2",
   "metadata": {
    "tags": []
   },
   "outputs": [],
   "source": [
    "exp_path, e_id = BASE_DIR / 'data/epsp_stress/measured/2023-11-23.json', 1"
   ]
  },
  {
   "cell_type": "code",
   "execution_count": 17,
   "id": "c3a93bec-b4fc-4194-a63c-02bbd1bb46da",
   "metadata": {
    "tags": []
   },
   "outputs": [],
   "source": [
    "gru_predictor = ChainPredictor(config_path=CONFIGS_DIR / 'maftr/maftr2_4.best/gru.yaml', predicts_scaled_theta=True)"
   ]
  },
  {
   "cell_type": "code",
   "execution_count": 18,
   "id": "b068dab4-8a7c-4464-a3ea-a55df39a00bb",
   "metadata": {
    "tags": []
   },
   "outputs": [
    {
     "name": "stdout",
     "output_type": "stream",
     "text": [
      "Origin score: 812.12, Nelder-Mead score: 398.05\n"
     ]
    }
   ],
   "source": [
    "unscaled_theta_opt_gru, stress_pred_opt_gru, _ = gru_predictor.predict_from_json_simplex(exp_path, verbose=True)"
   ]
  },
  {
   "cell_type": "code",
   "execution_count": 19,
   "id": "6dd555bf-2cee-4797-87cb-fea8ce15ce2a",
   "metadata": {
    "tags": []
   },
   "outputs": [
    {
     "name": "stderr",
     "output_type": "stream",
     "text": [
      "Calculating gradients of theta: 100%|████████████████████████████████████████████████████████████████████████████████████████████████████████████████████████████████████████████| 681/681 [00:10<00:00, 63.99it/s]\n",
      "100%|█████████████████████████████████████████████████████████████████████████████████████████████████████████████████████████████████████████████████████████████████████████| 1000/1000 [00:03<00:00, 259.18it/s]\n"
     ]
    }
   ],
   "source": [
    "fraction = 1\n",
    "validate_crlb_opt = gru_predictor.chain.validate_crlb.force().value(exp_path, crop_signal=[0, 681], unscaled_theta=unscaled_theta_opt_gru, fraction=fraction)"
   ]
  },
  {
   "cell_type": "code",
   "execution_count": 20,
   "id": "56738ef6-283b-4aea-9b84-4425f6255001",
   "metadata": {
    "tags": []
   },
   "outputs": [],
   "source": [
    "unscaled_theta_prediction_dict = {f'${key}$': val for key, val in zip(gru_predictor.chain.dataset_info.value['latex_labels'], unscaled_theta_opt_gru)}"
   ]
  },
  {
   "cell_type": "code",
   "execution_count": 21,
   "id": "4c7b27c8-9cae-45b2-81f4-be0204f34f64",
   "metadata": {
    "tags": []
   },
   "outputs": [
    {
     "data": {
      "text/html": [
       "<div>\n",
       "<style scoped>\n",
       "    .dataframe tbody tr th:only-of-type {\n",
       "        vertical-align: middle;\n",
       "    }\n",
       "\n",
       "    .dataframe tbody tr th {\n",
       "        vertical-align: top;\n",
       "    }\n",
       "\n",
       "    .dataframe thead th {\n",
       "        text-align: right;\n",
       "    }\n",
       "</style>\n",
       "<table border=\"1\" class=\"dataframe\">\n",
       "  <thead>\n",
       "    <tr style=\"text-align: right;\">\n",
       "      <th></th>\n",
       "      <th>parameter</th>\n",
       "      <th>$\\widehat{\\boldsymbol\\theta}$</th>\n",
       "      <th>ESTD</th>\n",
       "      <th>$\\sqrt{\\mathrm{CRLB}}$</th>\n",
       "      <th>asdf$</th>\n",
       "    </tr>\n",
       "  </thead>\n",
       "  <tbody>\n",
       "    <tr>\n",
       "      <th>0</th>\n",
       "      <td>$k_0$</td>\n",
       "      <td>195.324219</td>\n",
       "      <td>2.534019</td>\n",
       "      <td>0.793665</td>\n",
       "      <td>0.012973</td>\n",
       "    </tr>\n",
       "    <tr>\n",
       "      <th>1</th>\n",
       "      <td>$\\kappa_1$</td>\n",
       "      <td>23206.996094</td>\n",
       "      <td>190.536682</td>\n",
       "      <td>16.781239</td>\n",
       "      <td>0.008210</td>\n",
       "    </tr>\n",
       "    <tr>\n",
       "      <th>2</th>\n",
       "      <td>$\\kappa_2$</td>\n",
       "      <td>0.028727</td>\n",
       "      <td>0.000891</td>\n",
       "      <td>0.016827</td>\n",
       "      <td>0.031032</td>\n",
       "    </tr>\n",
       "    <tr>\n",
       "      <th>3</th>\n",
       "      <td>$c_1$</td>\n",
       "      <td>31843.533203</td>\n",
       "      <td>360.462860</td>\n",
       "      <td>16.085636</td>\n",
       "      <td>0.011320</td>\n",
       "    </tr>\n",
       "    <tr>\n",
       "      <th>4</th>\n",
       "      <td>$c_2$</td>\n",
       "      <td>2539.827637</td>\n",
       "      <td>142.136322</td>\n",
       "      <td>3.221019</td>\n",
       "      <td>0.055963</td>\n",
       "    </tr>\n",
       "    <tr>\n",
       "      <th>5</th>\n",
       "      <td>$c_3$</td>\n",
       "      <td>424.162659</td>\n",
       "      <td>62.868717</td>\n",
       "      <td>5.868053</td>\n",
       "      <td>0.148218</td>\n",
       "    </tr>\n",
       "    <tr>\n",
       "      <th>6</th>\n",
       "      <td>$c_4$</td>\n",
       "      <td>410.384888</td>\n",
       "      <td>108.958427</td>\n",
       "      <td>7.932480</td>\n",
       "      <td>0.265503</td>\n",
       "    </tr>\n",
       "    <tr>\n",
       "      <th>7</th>\n",
       "      <td>$a_1$</td>\n",
       "      <td>67.578262</td>\n",
       "      <td>6.086324</td>\n",
       "      <td>0.532633</td>\n",
       "      <td>0.090063</td>\n",
       "    </tr>\n",
       "    <tr>\n",
       "      <th>8</th>\n",
       "      <td>$a_2$</td>\n",
       "      <td>138.944458</td>\n",
       "      <td>5.721293</td>\n",
       "      <td>0.635240</td>\n",
       "      <td>0.041177</td>\n",
       "    </tr>\n",
       "    <tr>\n",
       "      <th>9</th>\n",
       "      <td>$a_3$</td>\n",
       "      <td>16.279949</td>\n",
       "      <td>8.293461</td>\n",
       "      <td>0.854660</td>\n",
       "      <td>0.509428</td>\n",
       "    </tr>\n",
       "    <tr>\n",
       "      <th>10</th>\n",
       "      <td>$a_4$</td>\n",
       "      <td>84.077393</td>\n",
       "      <td>3.890761</td>\n",
       "      <td>3.560769</td>\n",
       "      <td>0.046276</td>\n",
       "    </tr>\n",
       "    <tr>\n",
       "      <th>11</th>\n",
       "      <td>$\\overline{a}$</td>\n",
       "      <td>100.368088</td>\n",
       "      <td>23.567362</td>\n",
       "      <td>0.722328</td>\n",
       "      <td>0.234809</td>\n",
       "    </tr>\n",
       "  </tbody>\n",
       "</table>\n",
       "</div>"
      ],
      "text/plain": [
       "         parameter  $\\widehat{\\boldsymbol\\theta}$        ESTD  \\\n",
       "0            $k_0$                     195.324219    2.534019   \n",
       "1       $\\kappa_1$                   23206.996094  190.536682   \n",
       "2       $\\kappa_2$                       0.028727    0.000891   \n",
       "3            $c_1$                   31843.533203  360.462860   \n",
       "4            $c_2$                    2539.827637  142.136322   \n",
       "5            $c_3$                     424.162659   62.868717   \n",
       "6            $c_4$                     410.384888  108.958427   \n",
       "7            $a_1$                      67.578262    6.086324   \n",
       "8            $a_2$                     138.944458    5.721293   \n",
       "9            $a_3$                      16.279949    8.293461   \n",
       "10           $a_4$                      84.077393    3.890761   \n",
       "11  $\\overline{a}$                     100.368088   23.567362   \n",
       "\n",
       "    $\\sqrt{\\mathrm{CRLB}}$     asdf$  \n",
       "0                 0.793665  0.012973  \n",
       "1                16.781239  0.008210  \n",
       "2                 0.016827  0.031032  \n",
       "3                16.085636  0.011320  \n",
       "4                 3.221019  0.055963  \n",
       "5                 5.868053  0.148218  \n",
       "6                 7.932480  0.265503  \n",
       "7                 0.532633  0.090063  \n",
       "8                 0.635240  0.041177  \n",
       "9                 0.854660  0.509428  \n",
       "10                3.560769  0.046276  \n",
       "11                0.722328  0.234809  "
      ]
     },
     "execution_count": 21,
     "metadata": {},
     "output_type": "execute_result"
    }
   ],
   "source": [
    "df_params = pd.DataFrame(unscaled_theta_prediction_dict.items(), columns=['parameter', r'$\\widehat{\\boldsymbol\\theta}$'])\n",
    "df_params['ESTD'] = [i / fraction for i in validate_crlb_opt['theta_std']]\n",
    "df_params[r'$\\sqrt{\\mathrm{CRLB}}$'] = [np.sqrt(i) for i in validate_crlb_opt['crlb']['std']]\n",
    "df_params[r'ESTD/$\\widehat{\\boldsymbol\\theta}$'] = df_params['ESTD'] / df_params[r'$\\widehat{\\boldsymbol\\theta}$']\n",
    "df_params"
   ]
  }
 ],
 "metadata": {
  "kernelspec": {
   "display_name": "Python 3 (ipykernel)",
   "language": "python",
   "name": "python3"
  },
  "language_info": {
   "codemirror_mode": {
    "name": "ipython",
    "version": 3
   },
   "file_extension": ".py",
   "mimetype": "text/x-python",
   "name": "python",
   "nbconvert_exporter": "python",
   "pygments_lexer": "ipython3",
   "version": "3.10.13"
  }
 },
 "nbformat": 4,
 "nbformat_minor": 5
}
