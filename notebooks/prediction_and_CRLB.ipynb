{
 "cells": [
  {
   "cell_type": "code",
   "execution_count": 1,
   "id": "15f0f462-40f7-407f-be50-73cd11776781",
   "metadata": {
    "tags": []
   },
   "outputs": [],
   "source": [
    "%load_ext autoreload\n",
    "%autoreload 2"
   ]
  },
  {
   "cell_type": "code",
   "execution_count": 2,
   "id": "f078b1dce7ad0aee",
   "metadata": {
    "collapsed": false,
    "jupyter": {
     "outputs_hidden": false
    },
    "tags": []
   },
   "outputs": [],
   "source": [
    "import warnings\n",
    "\n",
    "import matplotlib as mpl\n",
    "import numpy as np\n",
    "import pandas as pd\n",
    "\n",
    "from rcpl.config import BASE_DIR, MPL_RC, CONFIGS_DIR\n",
    "from rcpl.prediction import ChainPredictor, format_float\n",
    "\n",
    "mpl.rcParams.update(MPL_RC)\n",
    "warnings.filterwarnings(\"ignore\", \"is_categorical_dtype\")\n",
    "warnings.filterwarnings(\"ignore\", \"use_inf_as_na\")"
   ]
  },
  {
   "cell_type": "code",
   "execution_count": 3,
   "id": "0fd17f47-d75f-4d42-ab48-f78398c9c1e2",
   "metadata": {
    "tags": []
   },
   "outputs": [],
   "source": [
    "exp_path, e_id = BASE_DIR / 'data/epsp_stress/measured/2023-11-23.json', 1"
   ]
  },
  {
   "cell_type": "code",
   "execution_count": 4,
   "id": "c3a93bec-b4fc-4194-a63c-02bbd1bb46da",
   "metadata": {
    "tags": []
   },
   "outputs": [],
   "source": [
    "gru_predictor = ChainPredictor(config_path=CONFIGS_DIR / 'maftr/maftr2_4.best/gru.yaml', predicts_scaled_theta=True)"
   ]
  },
  {
   "cell_type": "code",
   "execution_count": 5,
   "id": "b068dab4-8a7c-4464-a3ea-a55df39a00bb",
   "metadata": {
    "tags": []
   },
   "outputs": [
    {
     "name": "stdout",
     "output_type": "stream",
     "text": [
      "Origin score: 812.12, Nelder-Mead score: 393.02\n"
     ]
    }
   ],
   "source": [
    "unscaled_theta_opt_gru, stress_pred_opt_gru, _ = gru_predictor.predict_from_json_simplex(exp_path, verbose=True)"
   ]
  },
  {
   "cell_type": "code",
   "execution_count": 6,
   "id": "6dd555bf-2cee-4797-87cb-fea8ce15ce2a",
   "metadata": {
    "tags": []
   },
   "outputs": [
    {
     "name": "stderr",
     "output_type": "stream",
     "text": [
      "Calculating gradients of theta: 100%|████████████████████████████████████████████████████████████████████████████████████████████████████████████████████████████████████████████| 681/681 [00:13<00:00, 49.41it/s]\n",
      "100%|█████████████████████████████████████████████████████████████████████████████████████████████████████████████████████████████████████████████████████████████████████████| 1000/1000 [00:03<00:00, 255.15it/s]\n"
     ]
    }
   ],
   "source": [
    "fraction = 1\n",
    "validate_crlb_opt = gru_predictor.chain.validate_crlb.force().value(exp_path, crop_signal=[0, 681], unscaled_theta=unscaled_theta_opt_gru, fraction=fraction)"
   ]
  },
  {
   "cell_type": "code",
   "execution_count": 7,
   "id": "56738ef6-283b-4aea-9b84-4425f6255001",
   "metadata": {
    "tags": []
   },
   "outputs": [],
   "source": [
    "unscaled_theta_prediction_dict = {f'${key}$': val for key, val in zip(gru_predictor.chain.dataset_info.value['latex_labels'], unscaled_theta_opt_gru)}"
   ]
  },
  {
   "cell_type": "code",
   "execution_count": 8,
   "id": "4c7b27c8-9cae-45b2-81f4-be0204f34f64",
   "metadata": {
    "tags": []
   },
   "outputs": [
    {
     "data": {
      "text/html": [
       "<div>\n",
       "<style scoped>\n",
       "    .dataframe tbody tr th:only-of-type {\n",
       "        vertical-align: middle;\n",
       "    }\n",
       "\n",
       "    .dataframe tbody tr th {\n",
       "        vertical-align: top;\n",
       "    }\n",
       "\n",
       "    .dataframe thead th {\n",
       "        text-align: right;\n",
       "    }\n",
       "</style>\n",
       "<table border=\"1\" class=\"dataframe\">\n",
       "  <thead>\n",
       "    <tr style=\"text-align: right;\">\n",
       "      <th></th>\n",
       "      <th>parameter</th>\n",
       "      <th>$\\widehat{\\boldsymbol\\theta}$</th>\n",
       "      <th>ESTD</th>\n",
       "      <th>$\\sqrt{\\mathrm{CRLB}}$</th>\n",
       "      <th>ESTD/$\\sqrt{\\mathrm{CRLB}}$</th>\n",
       "    </tr>\n",
       "  </thead>\n",
       "  <tbody>\n",
       "    <tr>\n",
       "      <th>0</th>\n",
       "      <td>$k_0$</td>\n",
       "      <td>206.381744</td>\n",
       "      <td>2.606257</td>\n",
       "      <td>0.767659</td>\n",
       "      <td>3.395073</td>\n",
       "    </tr>\n",
       "    <tr>\n",
       "      <th>1</th>\n",
       "      <td>$\\kappa_1$</td>\n",
       "      <td>34521.804688</td>\n",
       "      <td>138.226364</td>\n",
       "      <td>17.114615</td>\n",
       "      <td>8.076510</td>\n",
       "    </tr>\n",
       "    <tr>\n",
       "      <th>2</th>\n",
       "      <td>$\\kappa_2$</td>\n",
       "      <td>0.021214</td>\n",
       "      <td>0.000937</td>\n",
       "      <td>0.009655</td>\n",
       "      <td>0.097053</td>\n",
       "    </tr>\n",
       "    <tr>\n",
       "      <th>3</th>\n",
       "      <td>$c_1$</td>\n",
       "      <td>19568.664062</td>\n",
       "      <td>349.847931</td>\n",
       "      <td>11.590568</td>\n",
       "      <td>30.183847</td>\n",
       "    </tr>\n",
       "    <tr>\n",
       "      <th>4</th>\n",
       "      <td>$c_2$</td>\n",
       "      <td>2186.573242</td>\n",
       "      <td>134.691833</td>\n",
       "      <td>3.118703</td>\n",
       "      <td>43.188417</td>\n",
       "    </tr>\n",
       "    <tr>\n",
       "      <th>5</th>\n",
       "      <td>$c_3$</td>\n",
       "      <td>319.294556</td>\n",
       "      <td>64.890541</td>\n",
       "      <td>6.400525</td>\n",
       "      <td>10.138315</td>\n",
       "    </tr>\n",
       "    <tr>\n",
       "      <th>6</th>\n",
       "      <td>$c_4$</td>\n",
       "      <td>515.419739</td>\n",
       "      <td>101.086929</td>\n",
       "      <td>8.301653</td>\n",
       "      <td>12.176723</td>\n",
       "    </tr>\n",
       "    <tr>\n",
       "      <th>7</th>\n",
       "      <td>$a_1$</td>\n",
       "      <td>68.740921</td>\n",
       "      <td>5.687988</td>\n",
       "      <td>0.468396</td>\n",
       "      <td>12.143534</td>\n",
       "    </tr>\n",
       "    <tr>\n",
       "      <th>8</th>\n",
       "      <td>$a_2$</td>\n",
       "      <td>133.712646</td>\n",
       "      <td>5.492246</td>\n",
       "      <td>0.568652</td>\n",
       "      <td>9.658356</td>\n",
       "    </tr>\n",
       "    <tr>\n",
       "      <th>9</th>\n",
       "      <td>$a_3$</td>\n",
       "      <td>11.364692</td>\n",
       "      <td>8.813612</td>\n",
       "      <td>1.166787</td>\n",
       "      <td>7.553744</td>\n",
       "    </tr>\n",
       "    <tr>\n",
       "      <th>10</th>\n",
       "      <td>$a_4$</td>\n",
       "      <td>67.119141</td>\n",
       "      <td>3.962957</td>\n",
       "      <td>2.960778</td>\n",
       "      <td>1.338485</td>\n",
       "    </tr>\n",
       "    <tr>\n",
       "      <th>11</th>\n",
       "      <td>$\\overline{a}$</td>\n",
       "      <td>101.318405</td>\n",
       "      <td>24.279837</td>\n",
       "      <td>0.658275</td>\n",
       "      <td>36.884031</td>\n",
       "    </tr>\n",
       "  </tbody>\n",
       "</table>\n",
       "</div>"
      ],
      "text/plain": [
       "         parameter  $\\widehat{\\boldsymbol\\theta}$        ESTD  \\\n",
       "0            $k_0$                     206.381744    2.606257   \n",
       "1       $\\kappa_1$                   34521.804688  138.226364   \n",
       "2       $\\kappa_2$                       0.021214    0.000937   \n",
       "3            $c_1$                   19568.664062  349.847931   \n",
       "4            $c_2$                    2186.573242  134.691833   \n",
       "5            $c_3$                     319.294556   64.890541   \n",
       "6            $c_4$                     515.419739  101.086929   \n",
       "7            $a_1$                      68.740921    5.687988   \n",
       "8            $a_2$                     133.712646    5.492246   \n",
       "9            $a_3$                      11.364692    8.813612   \n",
       "10           $a_4$                      67.119141    3.962957   \n",
       "11  $\\overline{a}$                     101.318405   24.279837   \n",
       "\n",
       "    $\\sqrt{\\mathrm{CRLB}}$  ESTD/$\\sqrt{\\mathrm{CRLB}}$  \n",
       "0                 0.767659                     3.395073  \n",
       "1                17.114615                     8.076510  \n",
       "2                 0.009655                     0.097053  \n",
       "3                11.590568                    30.183847  \n",
       "4                 3.118703                    43.188417  \n",
       "5                 6.400525                    10.138315  \n",
       "6                 8.301653                    12.176723  \n",
       "7                 0.468396                    12.143534  \n",
       "8                 0.568652                     9.658356  \n",
       "9                 1.166787                     7.553744  \n",
       "10                2.960778                     1.338485  \n",
       "11                0.658275                    36.884031  "
      ]
     },
     "execution_count": 8,
     "metadata": {},
     "output_type": "execute_result"
    }
   ],
   "source": [
    "df_params = pd.DataFrame(unscaled_theta_prediction_dict.items(), columns=['parameter', r'$\\widehat{\\boldsymbol\\theta}$'])\n",
    "df_params['ESTD'] = [i / fraction for i in validate_crlb_opt['theta_std']]\n",
    "df_params[r'$\\sqrt{\\mathrm{CRLB}}$'] = [np.sqrt(i) for i in validate_crlb_opt['crlb']['std']]\n",
    "df_params[r'ESTD/$\\sqrt{\\mathrm{CRLB}}$'] = df_params['ESTD'] / df_params[r'$\\sqrt{\\mathrm{CRLB}}$']\n",
    "df_params"
   ]
  }
 ],
 "metadata": {
  "kernelspec": {
   "display_name": "Python 3 (ipykernel)",
   "language": "python",
   "name": "python3"
  },
  "language_info": {
   "codemirror_mode": {
    "name": "ipython",
    "version": 3
   },
   "file_extension": ".py",
   "mimetype": "text/x-python",
   "name": "python",
   "nbconvert_exporter": "python",
   "pygments_lexer": "ipython3",
   "version": "3.10.13"
  }
 },
 "nbformat": 4,
 "nbformat_minor": 5
}
