{
 "cells": [
  {
   "cell_type": "code",
   "execution_count": 1,
   "id": "1490f43d-1bd3-4c19-b804-0c0fab4ab1a9",
   "metadata": {
    "ExecuteTime": {
     "end_time": "2023-07-16T17:05:52.298577991Z",
     "start_time": "2023-07-16T17:05:52.287832369Z"
    },
    "tags": []
   },
   "outputs": [],
   "source": [
    "%load_ext autoreload\n",
    "%autoreload 2"
   ]
  },
  {
   "cell_type": "code",
   "execution_count": 2,
   "id": "bb3f73b1-082e-4238-baab-f6d5d2ff6047",
   "metadata": {
    "tags": []
   },
   "outputs": [],
   "source": [
    "import matplotlib\n",
    "import numpy as np\n",
    "import seaborn as sns\n",
    "import torch\n",
    "from matplotlib import pyplot as plt\n",
    "from taskchain.task import Config\n",
    "\n",
    "from rcpl import config\n",
    "\n",
    "matplotlib.rc('text', usetex=True)\n",
    "plt.rc('text.latex', preamble=r\"\\usepackage{amsmath}\")\n",
    "DEVICE = 'cuda'"
   ]
  },
  {
   "cell_type": "code",
   "execution_count": 3,
   "id": "6f93132f-bf5d-43d5-9d87-147f9147ac43",
   "metadata": {
    "tags": []
   },
   "outputs": [],
   "source": [
    "config_path = config.CONFIGS_DIR / 'model' / 'random' / 'gru3-custom' / 'gru6.yaml'\n",
    "conf = Config(\n",
    "    config.TASKS_DIR,  # where Taskchain data should be stored\n",
    "    config_path,\n",
    "    context={'device': DEVICE},\n",
    "    global_vars=config,  # set global variables\n",
    ")\n",
    "chain = conf.chain()\n",
    "chain.set_log_level('CRITICAL')"
   ]
  },
  {
   "cell_type": "code",
   "execution_count": 4,
   "id": "ec3d8dc9-77f3-4e24-81d5-ad2e18244b19",
   "metadata": {
    "tags": []
   },
   "outputs": [],
   "source": [
    "validate_crlb = chain.validate_crlb.value['2023-08-27']"
   ]
  },
  {
   "cell_type": "code",
   "execution_count": 5,
   "id": "a5a1f591-657d-4d36-aebe-e32854260ee7",
   "metadata": {},
   "outputs": [
    {
     "data": {
      "image/png": "[encoded data removed]",
      "text/plain": [
       "<Figure size 800x300 with 1 Axes>"
      ]
     },
     "metadata": {},
     "output_type": "display_data"
    }
   ],
   "source": [
    "with sns.axes_style('ticks'):\n",
    "    with torch.no_grad():\n",
    "        labels = ['k_0', '\\kappa_1', '\\kappa_2', 'c_1', 'c_2', 'c_3','c_4', 'a_1', 'a_2', 'a_3','a_4']\n",
    "\n",
    "        plt.figure(figsize=(8, 3))\n",
    "        #points_a = validate_crlb['crlb']['relative_std']\n",
    "        #plt.plot(points_a, 'o', label=r'CRLB ($\\sigma^2=1$)')\n",
    "        points_a = np.array(validate_crlb['crlb']['relative_std']) / 100\n",
    "        plt.plot(points_a, 'o', label=r'CRLB ($\\sigma^2=1$)')\n",
    "        \n",
    "        #plt.plot(validate_crlb['theta_relative_std'], 'o', label=r'GRU trained on $\\textbf{D}_1$')\n",
    "        plt.plot(validate_crlb['theta_relative_std'], 'o', label=r'GRU trained on $\\textbf{D}_1$')\n",
    "\n",
    "        plt.yscale('log')\n",
    "        plt.title(r'STD/$\\boldsymbol\\theta$')\n",
    "\n",
    "        plt.xticks(ticks=range(len(labels)), labels=[f'${i}$' for i in labels]) \n",
    "        plt.xlabel('Parameters')\n",
    "        plt.ylabel('Ratio')\n",
    "        plt.legend()\n",
    "        plt.tight_layout()\n",
    "        #plt.savefig('crlb.pdf', bbox_inches='tight', pad_inches=0)\n",
    "        plt.plot()"
   ]
  },
  {
   "cell_type": "code",
   "execution_count": null,
   "id": "fadab449-833c-4049-a769-4e343bee3550",
   "metadata": {},
   "outputs": [],
   "source": []
  }
 ],
 "metadata": {
  "kernelspec": {
   "display_name": "Python 3 (ipykernel)",
   "language": "python",
   "name": "python3"
  },
  "language_info": {
   "codemirror_mode": {
    "name": "ipython",
    "version": 3
   },
   "file_extension": ".py",
   "mimetype": "text/x-python",
   "name": "python",
   "nbconvert_exporter": "python",
   "pygments_lexer": "ipython3",
   "version": "3.10.12"
  }
 },
 "nbformat": 4,
 "nbformat_minor": 5
}
