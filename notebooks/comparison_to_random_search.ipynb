{
 "cells": [
  {
   "cell_type": "code",
   "execution_count": 2,
   "id": "73de1a0c-0b17-4f59-937c-99806decf63c",
   "metadata": {
    "tags": []
   },
   "outputs": [],
   "source": [
    "%load_ext autoreload\n",
    "%autoreload 2"
   ]
  },
  {
   "cell_type": "code",
   "execution_count": null,
   "id": "9a01679db6844b66",
   "metadata": {
    "collapsed": false
   },
   "outputs": [],
   "source": [
    "import warnings\n",
    "\n",
    "import matplotlib as mpl\n",
    "import matplotlib.pyplot as plt\n",
    "import numpy as np\n",
    "from tqdm import tqdm\n",
    "\n",
    "from rcpl.config import BASE_DIR, FIGURES_DIR, MPL_RC, DATA_DIR\n",
    "from rcpl.config import CONFIGS_DIR\n",
    "from rcpl.prediction import ChainPredictor\n",
    "\n",
    "mpl.rcParams.update(MPL_RC)\n",
    "warnings.filterwarnings(\"ignore\", \"is_categorical_dtype\")\n",
    "warnings.filterwarnings(\"ignore\", \"use_inf_as_na\")"
   ]
  },
  {
   "cell_type": "code",
   "outputs": [],
   "source": [
    "DEVICE = 'cuda'\n",
    "D1 = 'exp2023-11-23.maftr2_4.template'\n",
    "D2 = 'maftr2_4.template'"
   ],
   "metadata": {
    "tags": []
   },
   "id": "e9113be7-4dd2-4ffa-a5e8-f500c058c138",
   "execution_count": 25
  },
  {
   "cell_type": "code",
   "execution_count": 5,
   "id": "99ce2e14-8413-4e13-9a8f-5e7976f0d57b",
   "metadata": {
    "tags": []
   },
   "outputs": [],
   "source": [
    "exp_path, e_id = DATA_DIR / 'epsp_stress/measured/2023-11-23.json', 1\n",
    "# exp_path, e_id = DATA_DIR / 'epsp_stress/measured/2023-11-07.json', 2"
   ]
  },
  {
   "cell_type": "code",
   "execution_count": 7,
   "id": "92c2213b-50d1-4f54-b8cd-697359eee49c",
   "metadata": {
    "tags": []
   },
   "outputs": [],
   "source": [
    "gru_predictor = ChainPredictor(config_path=CONFIGS_DIR / 'maftr/maftr2_4.best/gru.yaml', predicts_scaled_theta=True)\n",
    "ttopt_predictor = ChainPredictor(config_path=CONFIGS_DIR / 'maftr/maftr2_4.best/ttopt.yaml', predicts_scaled_theta=False)"
   ]
  },
  {
   "cell_type": "code",
   "execution_count": 12,
   "id": "170dc113-359c-4fe6-b463-110653b99d93",
   "metadata": {
    "tags": []
   },
   "outputs": [
    {
     "name": "stdout",
     "output_type": "stream",
     "text": [
      "Origin score: 2968.52, Nelder-Mead score: 634.58\n"
     ]
    },
    {
     "data": {
      "text/plain": [
       "(634.5804350291795, 2968.523359150013)"
      ]
     },
     "execution_count": 12,
     "metadata": {},
     "output_type": "execute_result"
    }
   ],
   "source": [
    "unscaled_theta_opt_gru, stress_pred_opt_gru, (new_score_gru, old_score_gru) = gru_predictor.predict_from_json_simplex(exp_path)"
   ]
  },
  {
   "cell_type": "code",
   "execution_count": 10,
   "id": "dcb4a8a4-0afb-492c-b12f-21a914525fa7",
   "metadata": {
    "tags": []
   },
   "outputs": [
    {
     "name": "stdout",
     "output_type": "stream",
     "text": [
      "Origin score: 694.50, Nelder-Mead score: 626.06\n"
     ]
    },
    {
     "data": {
      "text/plain": [
       "(626.06312516845, 694.4952485676745)"
      ]
     },
     "execution_count": 10,
     "metadata": {},
     "output_type": "execute_result"
    }
   ],
   "source": [
    "unscaled_theta_opt_ttopt, stress_pred_opt_ttopt, (new_score_ttopt, old_score_ttopt) = ttopt_predictor.predict_from_json_simplex(exp_path)"
   ]
  },
  {
   "cell_type": "code",
   "execution_count": 16,
   "id": "d183fcc5-e5fc-4138-b131-d7fcc6cb1565",
   "metadata": {
    "tags": []
   },
   "outputs": [],
   "source": [
    "best_theta = None\n",
    "best_score = np.inf\n",
    "SAVE_PATH = BASE_DIR / 'local_data/histograms' /f'{exp_path.stem}.scores.npz'\n",
    "SAVE_PATH.parent.mkdir(parents=True, exist_ok=True)\n",
    "if SAVE_PATH.exists():\n",
    "    data = np.load(BASE_DIR / 'local_data/histograms' /f'{exp_path.stem}.scores.npz')\n",
    "    all_n_scores = data['all_n_scores'].tolist()\n",
    "    all_o_scores = data['all_o_scores'].tolist()\n",
    "else:\n",
    "    all_n_scores = []\n",
    "    all_o_scores = []"
   ]
  },
  {
   "cell_type": "code",
   "execution_count": 22,
   "id": "c1117113-61c3-48b5-91cc-d6b52ac40964",
   "metadata": {
    "tags": []
   },
   "outputs": [
    {
     "name": "stderr",
     "output_type": "stream",
     "text": [
      "252083it [4:04:55,  3.75it/s]\n"
     ]
    }
   ],
   "source": [
    "model_factory = gru_predictor.chain.model_factory.value\n",
    "for i in tqdm(range(len(all_n_scores), 250000), initial=len(all_n_scores)):\n",
    "    try:\n",
    "        if len(all_n_scores) % 1000 == 0:\n",
    "            np.savez(BASE_DIR / 'local_data/histograms' /f'{exp_path.stem}.scores.npz', all_n_scores=all_n_scores, all_o_scores=all_o_scores)\n",
    "        rand_theta = model_factory.make_random_theta()\n",
    "        _,_,(n_score_i, o_score_i) = gru_predictor.run_simplex_on_exp(exp_path, rand_theta)\n",
    "        all_n_scores.append(n_score_i)\n",
    "        all_o_scores.append(o_score_i)\n",
    "        if n_score_i < best_score:\n",
    "            best_score = n_score_i\n",
    "            best_theta = rand_theta\n",
    "            print(best_score)\n",
    "        \n",
    "    except KeyboardInterrupt:\n",
    "        break"
   ]
  },
  {
   "cell_type": "code",
   "execution_count": null,
   "id": "f575e4733d355a43",
   "metadata": {
    "collapsed": false
   },
   "outputs": [],
   "source": [
    "data = [i for i in all_n_scores[:250000] if i < 1500]\n",
    "weights = [1 / len(all_n_scores[:250000])] * len(data)"
   ]
  },
  {
   "cell_type": "code",
   "outputs": [
    {
     "data": {
      "image/png": "[encoded data removed]",
      "text/plain": [
       "<Figure size 800x200 with 1 Axes>"
      ]
     },
     "metadata": {},
     "output_type": "display_data"
    }
   ],
   "source": [
    "plt.figure(figsize=(8, 2))\n",
    "plt.hist(data, bins=120, weights=weights, edgecolor='black', linewidth=0.1, color='#5699c6')\n",
    "plt.axvline(x=new_score_gru, color='r', linestyle='--', label='GRU')\n",
    "plt.axvline(x=new_score_ttopt, color='g', linestyle='--', label='TTOpt')\n",
    "plt.xlim([300, 1500])\n",
    "plt.xlabel(r'$L_{\\textbf{S}_r}$')\n",
    "plt.legend()\n",
    "plt.ylabel('Probability')\n",
    "plt.savefig(FIGURES_DIR / f'{exp_path.stem}_random.pdf', bbox_inches='tight', pad_inches=0)\n",
    "plt.show()"
   ],
   "metadata": {
    "tags": []
   },
   "id": "ce48a871-bf9d-45a0-a435-0d178d92a1ad",
   "execution_count": 24
  },
  {
   "cell_type": "code",
   "execution_count": 27,
   "id": "3448b5f7-a606-4d99-ae9a-d72ccaecadb8",
   "metadata": {
    "tags": []
   },
   "outputs": [
    {
     "data": {
      "image/png": "[encoded data removed]",
      "text/plain": [
       "<Figure size 385x80 with 1 Axes>"
      ]
     },
     "metadata": {},
     "output_type": "display_data"
    }
   ],
   "source": [
    "plt.hist(data, bins=60, weights=weights, edgecolor='black', linewidth=0.1, color='#5699c6')\n",
    "plt.axvline(x=new_score_gru, color='r', linestyle='--', label='GRU')\n",
    "plt.axvline(x=new_score_ttopt, color='g', linestyle='--', label='TTOpt')\n",
    "plt.xlim([600, 900])\n",
    "plt.xlabel(r'$L_{\\textbf{S}_r}$')\n",
    "plt.legend(frameon=True, labelspacing=0.5, handlelength=2, fontsize=8, borderpad=0.3, columnspacing=1, borderaxespad=0.2)\n",
    "plt.ylabel('Probability')\n",
    "plt.savefig(FIGURES_DIR / f'{exp_path.stem}_random_small.pdf', bbox_inches='tight', pad_inches=0)\n",
    "plt.show()"
   ]
  }
 ],
 "metadata": {
  "kernelspec": {
   "display_name": "Python 3 (ipykernel)",
   "language": "python",
   "name": "python3"
  },
  "language_info": {
   "codemirror_mode": {
    "name": "ipython",
    "version": 3
   },
   "file_extension": ".py",
   "mimetype": "text/x-python",
   "name": "python",
   "nbconvert_exporter": "python",
   "pygments_lexer": "ipython3",
   "version": "3.10.13"
  }
 },
 "nbformat": 4,
 "nbformat_minor": 5
}
