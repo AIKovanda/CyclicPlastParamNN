{
 "cells": [
  {
   "cell_type": "code",
   "execution_count": 1,
   "id": "15f0f462-40f7-407f-be50-73cd11776781",
   "metadata": {
    "tags": []
   },
   "outputs": [],
   "source": [
    "%load_ext autoreload\n",
    "%autoreload 2"
   ]
  },
  {
   "cell_type": "code",
   "execution_count": null,
   "id": "f078b1dce7ad0aee",
   "metadata": {
    "collapsed": false
   },
   "outputs": [],
   "source": [
    "import warnings\n",
    "\n",
    "import matplotlib as mpl\n",
    "import numpy as np\n",
    "import pandas as pd\n",
    "\n",
    "from rcpl.config import BASE_DIR, MPL_RC, CONFIGS_DIR\n",
    "from rcpl.prediction import ChainPredictor, format_float\n",
    "\n",
    "mpl.rcParams.update(MPL_RC)\n",
    "warnings.filterwarnings(\"ignore\", \"is_categorical_dtype\")\n",
    "warnings.filterwarnings(\"ignore\", \"use_inf_as_na\")"
   ]
  },
  {
   "cell_type": "code",
   "outputs": [],
   "source": [
    "DEVICE = 'cuda'\n",
    "D1 = 'exp2023-11-23.maftr2_4.template'\n",
    "D2 = 'maftr2_4.template'"
   ],
   "metadata": {
    "tags": []
   },
   "id": "8d71e1b0-0f22-4560-bcd6-44f7101d1330",
   "execution_count": 116
  },
  {
   "cell_type": "code",
   "execution_count": 94,
   "id": "0fd17f47-d75f-4d42-ab48-f78398c9c1e2",
   "metadata": {
    "tags": []
   },
   "outputs": [],
   "source": [
    "exp_path, e_id = BASE_DIR / 'data/epsp_stress/measured/2023-11-23.json', 1"
   ]
  },
  {
   "cell_type": "code",
   "execution_count": 95,
   "id": "c3a93bec-b4fc-4194-a63c-02bbd1bb46da",
   "metadata": {
    "tags": []
   },
   "outputs": [],
   "source": [
    "gru_predictor = ChainPredictor(config_path=CONFIGS_DIR / 'maftr/maftr2_4.best/gru.yaml', predicts_scaled_theta=True)"
   ]
  },
  {
   "cell_type": "code",
   "execution_count": 105,
   "id": "b068dab4-8a7c-4464-a3ea-a55df39a00bb",
   "metadata": {
    "tags": []
   },
   "outputs": [
    {
     "name": "stdout",
     "output_type": "stream",
     "text": [
      "Origin score: 2441.20, Nelder-Mead score: 75.75\n"
     ]
    }
   ],
   "source": [
    "unscaled_theta_opt_gru, stress_pred_opt_gru, _ = gru_predictor.predict_from_json_simplex(exp_path, verbose=True)"
   ]
  },
  {
   "cell_type": "code",
   "execution_count": 19,
   "id": "6dd555bf-2cee-4797-87cb-fea8ce15ce2a",
   "metadata": {
    "tags": []
   },
   "outputs": [
    {
     "name": "stderr",
     "output_type": "stream",
     "text": [
      "Calculating gradients of theta: 100%|████████████████████████████████████████████████████████████████████████████████████████████████████████████████████████████████████████████| 681/681 [00:10<00:00, 64.05it/s]\n",
      "100%|█████████████████████████████████████████████████████████████████████████████████████████████████████████████████████████████████████████████████████████████████████████| 1000/1000 [00:03<00:00, 260.09it/s]\n"
     ]
    }
   ],
   "source": [
    "fraction = 1\n",
    "validate_crlb_opt = gru_predictor.chain.validate_crlb.force().value(exp_path, crop_signal=[0, 681], unscaled_theta=unscaled_theta_opt_gru, fraction=fraction)"
   ]
  },
  {
   "cell_type": "code",
   "execution_count": 20,
   "id": "56738ef6-283b-4aea-9b84-4425f6255001",
   "metadata": {
    "tags": []
   },
   "outputs": [],
   "source": [
    "unscaled_theta_prediction_dict = {f'${key}$': val for key, val in zip(gru_predictor.chain.dataset_info.value['latex_labels'], unscaled_theta_opt_gru)}"
   ]
  },
  {
   "cell_type": "code",
   "execution_count": 21,
   "id": "4c7b27c8-9cae-45b2-81f4-be0204f34f64",
   "metadata": {
    "tags": []
   },
   "outputs": [
    {
     "data": {
      "text/html": [
       "<div>\n",
       "<style scoped>\n",
       "    .dataframe tbody tr th:only-of-type {\n",
       "        vertical-align: middle;\n",
       "    }\n",
       "\n",
       "    .dataframe tbody tr th {\n",
       "        vertical-align: top;\n",
       "    }\n",
       "\n",
       "    .dataframe thead th {\n",
       "        text-align: right;\n",
       "    }\n",
       "</style>\n",
       "<table border=\"1\" class=\"dataframe\">\n",
       "  <thead>\n",
       "    <tr style=\"text-align: right;\">\n",
       "      <th></th>\n",
       "      <th>parameter</th>\n",
       "      <th>$\\widehat{\\boldsymbol\\theta}$</th>\n",
       "      <th>ESTD</th>\n",
       "      <th>$\\sqrt{\\mathrm{CRLB}}$</th>\n",
       "      <th>ESTD/$\\sqrt{\\mathrm{CRLB}}$</th>\n",
       "    </tr>\n",
       "  </thead>\n",
       "  <tbody>\n",
       "    <tr>\n",
       "      <th>0</th>\n",
       "      <td>$k_0$</td>\n",
       "      <td>210.460968</td>\n",
       "      <td>2.107498</td>\n",
       "      <td>0.767538</td>\n",
       "      <td>2.745791</td>\n",
       "    </tr>\n",
       "    <tr>\n",
       "      <th>1</th>\n",
       "      <td>$\\kappa_1$</td>\n",
       "      <td>32330.250000</td>\n",
       "      <td>250.701294</td>\n",
       "      <td>16.561514</td>\n",
       "      <td>15.137583</td>\n",
       "    </tr>\n",
       "    <tr>\n",
       "      <th>2</th>\n",
       "      <td>$\\kappa_2$</td>\n",
       "      <td>0.022078</td>\n",
       "      <td>0.000291</td>\n",
       "      <td>0.010531</td>\n",
       "      <td>0.027630</td>\n",
       "    </tr>\n",
       "    <tr>\n",
       "      <th>3</th>\n",
       "      <td>$c_1$</td>\n",
       "      <td>22260.906250</td>\n",
       "      <td>184.428925</td>\n",
       "      <td>12.541408</td>\n",
       "      <td>14.705599</td>\n",
       "    </tr>\n",
       "    <tr>\n",
       "      <th>4</th>\n",
       "      <td>$c_2$</td>\n",
       "      <td>2293.304199</td>\n",
       "      <td>34.663639</td>\n",
       "      <td>2.527423</td>\n",
       "      <td>13.715013</td>\n",
       "    </tr>\n",
       "    <tr>\n",
       "      <th>5</th>\n",
       "      <td>$c_3$</td>\n",
       "      <td>83.808731</td>\n",
       "      <td>32.147350</td>\n",
       "      <td>2.144702</td>\n",
       "      <td>14.989189</td>\n",
       "    </tr>\n",
       "    <tr>\n",
       "      <th>6</th>\n",
       "      <td>$c_4$</td>\n",
       "      <td>722.140564</td>\n",
       "      <td>95.224464</td>\n",
       "      <td>10.625799</td>\n",
       "      <td>8.961629</td>\n",
       "    </tr>\n",
       "    <tr>\n",
       "      <th>7</th>\n",
       "      <td>$a_1$</td>\n",
       "      <td>64.952286</td>\n",
       "      <td>2.420475</td>\n",
       "      <td>0.456718</td>\n",
       "      <td>5.299710</td>\n",
       "    </tr>\n",
       "    <tr>\n",
       "      <th>8</th>\n",
       "      <td>$a_2$</td>\n",
       "      <td>138.280243</td>\n",
       "      <td>2.963132</td>\n",
       "      <td>0.384041</td>\n",
       "      <td>7.715671</td>\n",
       "    </tr>\n",
       "    <tr>\n",
       "      <th>9</th>\n",
       "      <td>$a_3$</td>\n",
       "      <td>46.960052</td>\n",
       "      <td>2.989753</td>\n",
       "      <td>2.187723</td>\n",
       "      <td>1.366605</td>\n",
       "    </tr>\n",
       "    <tr>\n",
       "      <th>10</th>\n",
       "      <td>$a_4$</td>\n",
       "      <td>45.610748</td>\n",
       "      <td>3.335612</td>\n",
       "      <td>2.705686</td>\n",
       "      <td>1.232816</td>\n",
       "    </tr>\n",
       "    <tr>\n",
       "      <th>11</th>\n",
       "      <td>$\\overline{a}$</td>\n",
       "      <td>99.524612</td>\n",
       "      <td>6.138659</td>\n",
       "      <td>0.543012</td>\n",
       "      <td>11.304837</td>\n",
       "    </tr>\n",
       "  </tbody>\n",
       "</table>\n",
       "</div>"
      ],
      "text/plain": [
       "         parameter  $\\widehat{\\boldsymbol\\theta}$        ESTD  \\\n",
       "0            $k_0$                     210.460968    2.107498   \n",
       "1       $\\kappa_1$                   32330.250000  250.701294   \n",
       "2       $\\kappa_2$                       0.022078    0.000291   \n",
       "3            $c_1$                   22260.906250  184.428925   \n",
       "4            $c_2$                    2293.304199   34.663639   \n",
       "5            $c_3$                      83.808731   32.147350   \n",
       "6            $c_4$                     722.140564   95.224464   \n",
       "7            $a_1$                      64.952286    2.420475   \n",
       "8            $a_2$                     138.280243    2.963132   \n",
       "9            $a_3$                      46.960052    2.989753   \n",
       "10           $a_4$                      45.610748    3.335612   \n",
       "11  $\\overline{a}$                      99.524612    6.138659   \n",
       "\n",
       "    $\\sqrt{\\mathrm{CRLB}}$  ESTD/$\\sqrt{\\mathrm{CRLB}}$  \n",
       "0                 0.767538                     2.745791  \n",
       "1                16.561514                    15.137583  \n",
       "2                 0.010531                     0.027630  \n",
       "3                12.541408                    14.705599  \n",
       "4                 2.527423                    13.715013  \n",
       "5                 2.144702                    14.989189  \n",
       "6                10.625799                     8.961629  \n",
       "7                 0.456718                     5.299710  \n",
       "8                 0.384041                     7.715671  \n",
       "9                 2.187723                     1.366605  \n",
       "10                2.705686                     1.232816  \n",
       "11                0.543012                    11.304837  "
      ]
     },
     "execution_count": 21,
     "metadata": {},
     "output_type": "execute_result"
    }
   ],
   "source": [
    "df_params = pd.DataFrame(unscaled_theta_prediction_dict.items(), columns=['parameter', r'$\\widehat{\\boldsymbol\\theta}$'])\n",
    "df_params['ESTD'] = [i / fraction for i in validate_crlb_opt['theta_std']]\n",
    "df_params[r'$\\sqrt{\\mathrm{CRLB}}$'] = [np.sqrt(i) for i in validate_crlb_opt['crlb']['std']]\n",
    "df_params[r'ESTD/$\\sqrt{\\mathrm{CRLB}}$'] = df_params['ESTD'] / df_params[r'$\\sqrt{\\mathrm{CRLB}}$']\n",
    "df_params"
   ]
  },
  {
   "cell_type": "code",
   "execution_count": 23,
   "id": "90056049-67d9-4ae8-9528-2b0e853a027d",
   "metadata": {
    "tags": []
   },
   "outputs": [
    {
     "data": {
      "text/html": [
       "<div>\n",
       "<style scoped>\n",
       "    .dataframe tbody tr th:only-of-type {\n",
       "        vertical-align: middle;\n",
       "    }\n",
       "\n",
       "    .dataframe tbody tr th {\n",
       "        vertical-align: top;\n",
       "    }\n",
       "\n",
       "    .dataframe thead th {\n",
       "        text-align: right;\n",
       "    }\n",
       "</style>\n",
       "<table border=\"1\" class=\"dataframe\">\n",
       "  <thead>\n",
       "    <tr style=\"text-align: right;\">\n",
       "      <th></th>\n",
       "      <th></th>\n",
       "      <th>$\\widehat{\\boldsymbol\\theta}$</th>\n",
       "      <th>ESTD</th>\n",
       "      <th>$\\sqrt{\\mathrm{CRLB}}$</th>\n",
       "      <th>ESTD/$\\sqrt{\\mathrm{CRLB}}$</th>\n",
       "    </tr>\n",
       "  </thead>\n",
       "  <tbody>\n",
       "    <tr>\n",
       "      <th>0</th>\n",
       "      <td>$k_0$</td>\n",
       "      <td>210.5</td>\n",
       "      <td>2.107</td>\n",
       "      <td>0.7675</td>\n",
       "      <td>2.746</td>\n",
       "    </tr>\n",
       "    <tr>\n",
       "      <th>1</th>\n",
       "      <td>$\\kappa_1$</td>\n",
       "      <td>3.233 $\\times 10^{4}$</td>\n",
       "      <td>250.7</td>\n",
       "      <td>16.56</td>\n",
       "      <td>15.14</td>\n",
       "    </tr>\n",
       "    <tr>\n",
       "      <th>2</th>\n",
       "      <td>$\\kappa_2$</td>\n",
       "      <td>0.02208</td>\n",
       "      <td>0.291 $\\times 10^{-3}$</td>\n",
       "      <td>0.01053</td>\n",
       "      <td>0.02763</td>\n",
       "    </tr>\n",
       "    <tr>\n",
       "      <th>3</th>\n",
       "      <td>$c_1$</td>\n",
       "      <td>2.226 $\\times 10^{4}$</td>\n",
       "      <td>184.4</td>\n",
       "      <td>12.54</td>\n",
       "      <td>14.71</td>\n",
       "    </tr>\n",
       "    <tr>\n",
       "      <th>4</th>\n",
       "      <td>$c_2$</td>\n",
       "      <td>2293</td>\n",
       "      <td>34.66</td>\n",
       "      <td>2.527</td>\n",
       "      <td>13.72</td>\n",
       "    </tr>\n",
       "    <tr>\n",
       "      <th>5</th>\n",
       "      <td>$c_3$</td>\n",
       "      <td>83.81</td>\n",
       "      <td>32.15</td>\n",
       "      <td>2.145</td>\n",
       "      <td>14.99</td>\n",
       "    </tr>\n",
       "    <tr>\n",
       "      <th>6</th>\n",
       "      <td>$c_4$</td>\n",
       "      <td>722.1</td>\n",
       "      <td>95.22</td>\n",
       "      <td>10.63</td>\n",
       "      <td>8.962</td>\n",
       "    </tr>\n",
       "    <tr>\n",
       "      <th>7</th>\n",
       "      <td>$a_1$</td>\n",
       "      <td>64.95</td>\n",
       "      <td>2.420</td>\n",
       "      <td>0.4567</td>\n",
       "      <td>5.300</td>\n",
       "    </tr>\n",
       "    <tr>\n",
       "      <th>8</th>\n",
       "      <td>$a_2$</td>\n",
       "      <td>138.3</td>\n",
       "      <td>2.963</td>\n",
       "      <td>0.384</td>\n",
       "      <td>7.716</td>\n",
       "    </tr>\n",
       "    <tr>\n",
       "      <th>9</th>\n",
       "      <td>$a_3$</td>\n",
       "      <td>46.96</td>\n",
       "      <td>2.990</td>\n",
       "      <td>2.188</td>\n",
       "      <td>1.367</td>\n",
       "    </tr>\n",
       "    <tr>\n",
       "      <th>10</th>\n",
       "      <td>$a_4$</td>\n",
       "      <td>45.61</td>\n",
       "      <td>3.336</td>\n",
       "      <td>2.706</td>\n",
       "      <td>1.233</td>\n",
       "    </tr>\n",
       "    <tr>\n",
       "      <th>11</th>\n",
       "      <td>$\\overline{a}$</td>\n",
       "      <td>99.52</td>\n",
       "      <td>6.139</td>\n",
       "      <td>0.543</td>\n",
       "      <td>11.30</td>\n",
       "    </tr>\n",
       "  </tbody>\n",
       "</table>\n",
       "</div>"
      ],
      "text/plain": [
       "                   $\\widehat{\\boldsymbol\\theta}$                    ESTD  \\\n",
       "0            $k_0$                         210.5                   2.107   \n",
       "1       $\\kappa_1$         3.233 $\\times 10^{4}$                   250.7   \n",
       "2       $\\kappa_2$                       0.02208  0.291 $\\times 10^{-3}$   \n",
       "3            $c_1$         2.226 $\\times 10^{4}$                   184.4   \n",
       "4            $c_2$                          2293                   34.66   \n",
       "5            $c_3$                         83.81                   32.15   \n",
       "6            $c_4$                         722.1                   95.22   \n",
       "7            $a_1$                         64.95                   2.420   \n",
       "8            $a_2$                         138.3                   2.963   \n",
       "9            $a_3$                         46.96                   2.990   \n",
       "10           $a_4$                         45.61                   3.336   \n",
       "11  $\\overline{a}$                         99.52                   6.139   \n",
       "\n",
       "   $\\sqrt{\\mathrm{CRLB}}$ ESTD/$\\sqrt{\\mathrm{CRLB}}$  \n",
       "0                  0.7675                       2.746  \n",
       "1                   16.56                       15.14  \n",
       "2                 0.01053                     0.02763  \n",
       "3                   12.54                       14.71  \n",
       "4                   2.527                       13.72  \n",
       "5                   2.145                       14.99  \n",
       "6                   10.63                       8.962  \n",
       "7                  0.4567                       5.300  \n",
       "8                   0.384                       7.716  \n",
       "9                   2.188                       1.367  \n",
       "10                  2.706                       1.233  \n",
       "11                  0.543                       11.30  "
      ]
     },
     "execution_count": 23,
     "metadata": {},
     "output_type": "execute_result"
    }
   ],
   "source": [
    "for col in df_params.columns[1:]:\n",
    "    df_params[col] = df_params[col].apply(lambda x: format_float(x))\n",
    "df_params = df_params.rename(columns={'parameter': ' '})\n",
    "df_params"
   ]
  }
 ],
 "metadata": {
  "kernelspec": {
   "display_name": "Python 3 (ipykernel)",
   "language": "python",
   "name": "python3"
  },
  "language_info": {
   "codemirror_mode": {
    "name": "ipython",
    "version": 3
   },
   "file_extension": ".py",
   "mimetype": "text/x-python",
   "name": "python",
   "nbconvert_exporter": "python",
   "pygments_lexer": "ipython3",
   "version": "3.10.13"
  }
 },
 "nbformat": 4,
 "nbformat_minor": 5
}
